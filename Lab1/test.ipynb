{
 "cells": [
  {
   "cell_type": "code",
   "execution_count": 41,
   "metadata": {},
   "outputs": [],
   "source": [
    "import numpy as np\n",
    "import torch\n",
    "import torch.nn as nn\n",
    "from torch import optim\n"
   ]
  },
  {
   "cell_type": "code",
   "execution_count": 42,
   "metadata": {},
   "outputs": [],
   "source": [
    "class Mymodel(nn.Module):\n",
    "\n",
    "    def __init__(self, input_dim):\n",
    "        super(Mymodel, self).__init__()\n",
    "\n",
    "        self.l1 = nn.Sequential(\n",
    "            nn.Linear(input_dim, 3),\n",
    "            nn.Sigmoid(),\n",
    "            # nn.ReLU(),\n",
    "            nn.Linear(3, 3),\n",
    "            nn.Sigmoid(),\n",
    "            # nn.ReLU(),\n",
    "            nn.Linear(3, 1),\n",
    "            nn.Sigmoid(),\n",
    "            # ReLU(),\n",
    "        )\n",
    "\n",
    "    def forward(self, x):\n",
    "\n",
    "        x = self.l1(x)\n",
    "        x = x.squeeze(1)\n",
    "        return x \n"
   ]
  },
  {
   "cell_type": "code",
   "execution_count": 43,
   "metadata": {},
   "outputs": [],
   "source": [
    "class MyOptimizer:\n",
    "    \n",
    "    def __init__(self, params, lr):\n",
    "        self.params = params\n",
    "        self.lr = lr\n",
    "\n",
    "    def step(self):\n",
    "        with torch.no_grad():\n",
    "            for param in self.params:\n",
    "                param -= self.lr * param.grad\n",
    "\n",
    "    def zero_grad(self):\n",
    "        for param in self.params:\n",
    "            if param.grad is not None:\n",
    "                param.grad.zero_()\n"
   ]
  },
  {
   "cell_type": "code",
   "execution_count": 44,
   "metadata": {},
   "outputs": [],
   "source": [
    "# Data Generation\n",
    "def generate_linear(n= 100):\n",
    "    pts = np.random.uniform(0, 1, (n, 2))\n",
    "    inputs = []\n",
    "    labels = []\n",
    "    for pt in pts:\n",
    "        inputs.append([pt[0], pt[1]])\n",
    "        distance = (pt[0] - pt[1]) / 1.414\n",
    "        if pt[0] > pt[1]:\n",
    "            labels.append(0.0)\n",
    "        else:\n",
    "            labels.append(1.0)\n",
    "    return  torch.from_numpy(np.array(inputs)).float(), torch.from_numpy(np.array(labels)).float()"
   ]
  },
  {
   "cell_type": "code",
   "execution_count": 45,
   "metadata": {},
   "outputs": [],
   "source": [
    "def trainer(x, y, model, config):\n",
    "    criterion = nn.MSELoss(reduction= \"mean\")\n",
    "    # optimizer = torch.optim.SGD(model.parameters(), lr= config[\"learning_rate\"])\n",
    "    optimizer = MyOptimizer(model.parameters(), lr= config[\"learning_rate\"])\n",
    "\n",
    "    for epoch in range(config[\"epoch\"]):\n",
    "        model.train()\n",
    "        optimizer.zero_grad()\n",
    "        pred = model(x)\n",
    "        loss = criterion(pred, y)\n",
    "        loss.backward()\n",
    "        optimizer.step() \n",
    "        if (epoch + 1) % 5000 == 0:\n",
    "            print(f\"Epoch: {epoch + 1}, Loss: {loss}\") "
   ]
  },
  {
   "cell_type": "code",
   "execution_count": 46,
   "metadata": {},
   "outputs": [],
   "source": [
    "config = {\n",
    "    \"epoch\": 100000,\n",
    "    \"learning_rate\": 1e-3\n",
    "}"
   ]
  },
  {
   "cell_type": "code",
   "execution_count": 47,
   "metadata": {},
   "outputs": [],
   "source": [
    "x, y = generate_linear()"
   ]
  },
  {
   "cell_type": "code",
   "execution_count": 48,
   "metadata": {},
   "outputs": [
    {
     "name": "stdout",
     "output_type": "stream",
     "text": [
      "Epoch: 5000, Loss: 0.25171583890914917\n",
      "Epoch: 10000, Loss: 0.25171583890914917\n",
      "Epoch: 15000, Loss: 0.25171583890914917\n",
      "Epoch: 20000, Loss: 0.25171583890914917\n",
      "Epoch: 25000, Loss: 0.25171583890914917\n",
      "Epoch: 30000, Loss: 0.25171583890914917\n",
      "Epoch: 35000, Loss: 0.25171583890914917\n",
      "Epoch: 40000, Loss: 0.25171583890914917\n",
      "Epoch: 45000, Loss: 0.25171583890914917\n",
      "Epoch: 50000, Loss: 0.25171583890914917\n",
      "Epoch: 55000, Loss: 0.25171583890914917\n",
      "Epoch: 60000, Loss: 0.25171583890914917\n",
      "Epoch: 65000, Loss: 0.25171583890914917\n",
      "Epoch: 70000, Loss: 0.25171583890914917\n",
      "Epoch: 75000, Loss: 0.25171583890914917\n",
      "Epoch: 80000, Loss: 0.25171583890914917\n",
      "Epoch: 85000, Loss: 0.25171583890914917\n",
      "Epoch: 90000, Loss: 0.25171583890914917\n",
      "Epoch: 95000, Loss: 0.25171583890914917\n",
      "Epoch: 100000, Loss: 0.25171583890914917\n"
     ]
    }
   ],
   "source": [
    "model = Mymodel(x.shape[1])\n",
    "trainer(x, y, model, config)"
   ]
  }
 ],
 "metadata": {
  "kernelspec": {
   "display_name": "GPU",
   "language": "python",
   "name": "python3"
  },
  "language_info": {
   "codemirror_mode": {
    "name": "ipython",
    "version": 3
   },
   "file_extension": ".py",
   "mimetype": "text/x-python",
   "name": "python",
   "nbconvert_exporter": "python",
   "pygments_lexer": "ipython3",
   "version": "3.10.13"
  }
 },
 "nbformat": 4,
 "nbformat_minor": 2
}
