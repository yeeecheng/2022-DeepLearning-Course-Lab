{
 "cells": [
  {
   "cell_type": "code",
   "execution_count": 276,
   "metadata": {},
   "outputs": [],
   "source": [
    "import numpy as np\n",
    "from tqdm import tqdm"
   ]
  },
  {
   "cell_type": "code",
   "execution_count": 277,
   "metadata": {},
   "outputs": [],
   "source": [
    "# Data Generation\n",
    "def generate_linear(n= 100):\n",
    "    pts = np.random.uniform(0, 1, (n, 2))\n",
    "    inputs = []\n",
    "    labels = []\n",
    "    for pt in pts:\n",
    "        inputs.append([pt[0], pt[1]])\n",
    "        distance = (pt[0] - pt[1]) / 1.414\n",
    "        if pt[0] > pt[1]:\n",
    "            labels.append(0)\n",
    "        else:\n",
    "            labels.append(1)\n",
    "    return  np.array(inputs), np.array(labels).reshape(n, 1)\n",
    "\n",
    "\n",
    "def generate_XOR_easy():\n",
    "    inputs = []\n",
    "    labels = []\n",
    "\n",
    "    for i in range(11):\n",
    "        inputs.append([0.1 *i, 0.1 * i])\n",
    "        labels.append(0)\n",
    "\n",
    "        if 0.1 * i == 0.5:\n",
    "            continue\n",
    "\n",
    "        inputs.append([0.1 * i, 1 - 0.1 * i])\n",
    "        labels.append(1)\n",
    "    \n",
    "    return  np.array(inputs), np.array(labels).reshape(21, 1)"
   ]
  },
  {
   "cell_type": "code",
   "execution_count": 278,
   "metadata": {},
   "outputs": [],
   "source": [
    "class Linear:\n",
    "    def __init__(self, in_features, out_features, bias= True):\n",
    "        # y = Wx + b \n",
    "        k = 1.0 / in_features\n",
    "        self.weight = np.random.uniform(-np.sqrt(k), np.sqrt(k), (out_features, in_features))\n",
    "        self.bias = np.random.uniform(-np.sqrt(k), np.sqrt(k), (out_features))\n",
    "    \n",
    "    def __call__(self, x):\n",
    "        return self.forward(x)\n",
    "\n",
    "    def forward(self, x):\n",
    "        # input matrix W + bias\n",
    "        self.x = x\n",
    "        return np.matmul(x, self.weight.T) + self.bias\n",
    "    \n",
    "    def backward(self, grad):\n",
    "\n",
    "        self.weight_grad = np.matmul(self.x.T, grad)\n",
    "        self.bias_grad = grad.sum(axis= 0)\n",
    "        return np.matmul(grad, self.weight)\n",
    "    \n",
    "    def update(self, lr= 1e-4):\n",
    "        \n",
    "        self.weight -= (lr * self.weight_grad).T\n",
    "        self.bias -= lr * self.bias_grad"
   ]
  },
  {
   "cell_type": "code",
   "execution_count": 279,
   "metadata": {},
   "outputs": [],
   "source": [
    "class linear_model:\n",
    "    def __init__(self, in_features, out_features):\n",
    "        # hidden layer 1\n",
    "        self.linear_1 = Linear(in_features, 256)\n",
    "        # hidden layer 4\n",
    "        self.linear_2 = Linear(256, out_features)\n",
    "        # activation function\n",
    "        self.ac_sigmoid = lambda x: 1.0 / (1.0 + np.exp(-x))\n",
    "    \n",
    "    def __call__(self, x):\n",
    "        return self.forward(x)\n",
    "\n",
    "    def forward(self, x):\n",
    "        x = self.linear_1(x)\n",
    "        x = self.ac_sigmoid(x)\n",
    "        return self.linear_2(x)\n",
    "    \n",
    "    def backward(self, x):\n",
    "        x = self.linear_2.backward(x)\n",
    "        # derivative_sigmoid\n",
    "        x = np.multiply(x, 1.0 - x)\n",
    "        x = self.linear_1.backward(x)\n",
    "\n",
    "    def update(self, lr= 1e-4):\n",
    "        self.linear_2.update(lr)\n",
    "        self.linear_1.update(lr)"
   ]
  },
  {
   "cell_type": "code",
   "execution_count": 280,
   "metadata": {},
   "outputs": [],
   "source": [
    "# hyperparameter\n",
    "epoch = 100000\n",
    "learning_rate = 1e-6"
   ]
  },
  {
   "cell_type": "code",
   "execution_count": 281,
   "metadata": {},
   "outputs": [],
   "source": [
    "# x, y = generate_linear(n = 100)\n",
    "x, y = generate_XOR_easy()\n",
    "model = linear_model(2, 1) "
   ]
  },
  {
   "cell_type": "code",
   "execution_count": 282,
   "metadata": {},
   "outputs": [
    {
     "name": "stdout",
     "output_type": "stream",
     "text": [
      "Epoch: 9999, Loss: 0.24922908826886514\n",
      "Epoch: 19999, Loss: 0.2491293000142154\n",
      "Epoch: 29999, Loss: 0.24904250812471326\n",
      "Epoch: 39999, Loss: 0.24896614722388932\n",
      "Epoch: 49999, Loss: 0.24889815808546087\n",
      "Epoch: 59999, Loss: 0.24883688763342504\n",
      "Epoch: 69999, Loss: 0.2487810087301986\n",
      "Epoch: 79999, Loss: 0.2487294558262921\n",
      "Epoch: 89999, Loss: 0.24868137332790607\n",
      "Epoch: 99999, Loss: 0.24863607416431557\n"
     ]
    }
   ],
   "source": [
    "for i in range(epoch):\n",
    "    # prediction\n",
    "    pred = model(x)\n",
    "    \n",
    "    # MSE loss\n",
    "    MSE_loss = ((pred - y) ** 2).mean()\n",
    "    if (i + 1) % 10000 == 0:\n",
    "        print(f\"Epoch: {i}, Loss: {MSE_loss}\")\n",
    "    # cal\n",
    "    grad_y = -2 * (y - pred)\n",
    "    model.backward(grad_y)\n",
    "    model.update(lr= learning_rate)"
   ]
  },
  {
   "cell_type": "markdown",
   "metadata": {},
   "source": []
  },
  {
   "cell_type": "code",
   "execution_count": 286,
   "metadata": {},
   "outputs": [
    {
     "name": "stdout",
     "output_type": "stream",
     "text": [
      "[0.4448674] [0]\n",
      "[0.47019344] [1]\n",
      "[0.45133385] [0]\n",
      "[0.47096252] [1]\n",
      "[0.45773633] [0]\n",
      "[0.47194993] [1]\n",
      "[0.46403541] [0]\n",
      "[0.47315341] [1]\n",
      "[0.47019327] [0]\n",
      "[0.47456565] [1]\n",
      "[0.47617445] [0]\n",
      "[0.48194652] [0]\n",
      "[0.47796318] [1]\n",
      "[0.48748061] [0]\n",
      "[0.47991137] [1]\n",
      "[0.49275192] [0]\n",
      "[0.48199554] [1]\n",
      "[0.49774001] [0]\n",
      "[0.48419012] [1]\n",
      "[0.502429] [0]\n",
      "[0.48646848] [1]\n"
     ]
    }
   ],
   "source": [
    "for p_y, g_y in zip(pred, y):\n",
    "    print(p_y, g_y)\n"
   ]
  },
  {
   "cell_type": "code",
   "execution_count": 284,
   "metadata": {},
   "outputs": [],
   "source": [
    "import matplotlib.pyplot as plt\n",
    "def show_result(x, y, pred_y):\n",
    "    plt.subplot(1, 2, 1)\n",
    "    plt.title(\"Ground truth\", fontsize= 18)\n",
    "    for i in range(x.shape[0]):\n",
    "        if y[i] == 0:\n",
    "            plt.plot(x[i][0], x[i][1], \"ro\")\n",
    "        else:\n",
    "            plt.plot(x[i][0], x[i][1], \"bo\")\n",
    "\n",
    "    plt.subplot(1, 2, 2)\n",
    "    plt.title(\"Predict result\", fontsize= 18)\n",
    "    for i in range(x.shape[0]):\n",
    "        if pred_y[i] == 0:\n",
    "            plt.plot(x[i][0], x[i][1], \"ro\")\n",
    "        else:\n",
    "            plt.plot(x[i][0], x[i][1], \"bo\")\n",
    "    \n",
    "    plt.show()"
   ]
  },
  {
   "cell_type": "code",
   "execution_count": 285,
   "metadata": {},
   "outputs": [
    {
     "data": {
      "image/png": "[encoded data removed]",
      "text/plain": [
       "<Figure size 640x480 with 2 Axes>"
      ]
     },
     "metadata": {},
     "output_type": "display_data"
    }
   ],
   "source": [
    "show_result(x, y, pred)"
   ]
  }
 ],
 "metadata": {
  "kernelspec": {
   "display_name": "gpu_env",
   "language": "python",
   "name": "python3"
  },
  "language_info": {
   "codemirror_mode": {
    "name": "ipython",
    "version": 3
   },
   "file_extension": ".py",
   "mimetype": "text/x-python",
   "name": "python",
   "nbconvert_exporter": "python",
   "pygments_lexer": "ipython3",
   "version": "3.9.0"
  }
 },
 "nbformat": 4,
 "nbformat_minor": 2
}
