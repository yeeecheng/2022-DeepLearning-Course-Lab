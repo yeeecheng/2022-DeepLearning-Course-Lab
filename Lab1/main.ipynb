{
 "cells": [
  {
   "cell_type": "code",
   "execution_count": 1,
   "metadata": {},
   "outputs": [],
   "source": [
    "from layer import tanh, linear_layer, sigmoid, ReLU, LeakyReLU\n",
    "import numpy as np\n",
    "import matplotlib.pyplot as plt"
   ]
  },
  {
   "cell_type": "code",
   "execution_count": 2,
   "metadata": {},
   "outputs": [],
   "source": [
    "# Data Generation\n",
    "def generate_linear(n= 100):\n",
    "    pts = np.random.uniform(0, 1, (n, 2))\n",
    "    inputs = []\n",
    "    labels = []\n",
    "    for pt in pts:\n",
    "        inputs.append([pt[0], pt[1]])\n",
    "        distance = (pt[0] - pt[1]) / 1.414\n",
    "        if pt[0] > pt[1]:\n",
    "            labels.append(0)\n",
    "        else:\n",
    "            labels.append(1)\n",
    "    return  np.array(inputs), np.array(labels).reshape(n, 1)\n",
    "\n",
    "\n",
    "def generate_XOR_easy():\n",
    "    inputs = []\n",
    "    labels = []\n",
    "\n",
    "    for i in range(11):\n",
    "        inputs.append([0.1 *i, 0.1 * i])\n",
    "        labels.append(0)\n",
    "\n",
    "        if 0.1 * i == 0.5:\n",
    "            continue\n",
    "\n",
    "        inputs.append([0.1 * i, 1 - 0.1 * i])\n",
    "        labels.append(1)\n",
    "    \n",
    "    return  np.array(inputs), np.array(labels).reshape(21, 1)"
   ]
  },
  {
   "cell_type": "code",
   "execution_count": 3,
   "metadata": {},
   "outputs": [],
   "source": [
    "\n",
    "def show_result(x, y, pred_y):\n",
    "    plt.subplot(1, 2, 1)\n",
    "    plt.title(\"Ground truth\", fontsize= 18)\n",
    "    for i in range(x.shape[0]):\n",
    "        if y[i] == 0:\n",
    "            plt.plot(x[i][0], x[i][1], \"ro\")\n",
    "        else:\n",
    "            plt.plot(x[i][0], x[i][1], \"bo\")\n",
    "\n",
    "    plt.subplot(1, 2, 2)\n",
    "    plt.title(\"Predict result\", fontsize= 18)\n",
    "    for i in range(x.shape[0]):\n",
    "        if pred_y[i] == 0:\n",
    "            plt.plot(x[i][0], x[i][1], \"ro\")\n",
    "        else:\n",
    "            plt.plot(x[i][0], x[i][1], \"bo\")\n",
    "    \n",
    "    plt.show()"
   ]
  },
  {
   "cell_type": "code",
   "execution_count": 4,
   "metadata": {},
   "outputs": [],
   "source": [
    "class linear_model:\n",
    "    def __init__(self, in_features, out_features):\n",
    "        # hidden layer 1\n",
    "        self.linear_1 = linear_layer(in_features, 3)\n",
    "        # hidden layer 2\n",
    "        self.linear_2 = linear_layer(3, 3)\n",
    "        # hidden layer 3\n",
    "        self.linear_3 = linear_layer(3, out_features)\n",
    "        self.ac_tanh = tanh()\n",
    "        self.ac_sigmoid  = sigmoid() \n",
    "        self.ac_ReLU = ReLU()\n",
    "        self.ac_LeakyReLu = LeakyReLU()\n",
    "    \n",
    "    def __call__(self, x):\n",
    "        return self.forward(x)\n",
    "\n",
    "    def forward(self, x):\n",
    "\n",
    "        x = self.linear_1(x)\n",
    "        x = self.ac_ReLU(x)\n",
    "\n",
    "        x = self.linear_2(x)\n",
    "        x = self.ac_ReLU(x)\n",
    "\n",
    "        x = self.linear_3(x)\n",
    "        x = self.ac_sigmoid(x)\n",
    "        return x\n",
    "        \n",
    "    \n",
    "    def backward(self, x):\n",
    "        \n",
    "        grad_a3 = x\n",
    "        grad_z3 = self.ac_sigmoid.derivative(self.linear_3.z) * grad_a3 \n",
    "        \n",
    "        grad_a2 = np.matmul(grad_z3, self.linear_3.weight)\n",
    "        grad_z2 = self.ac_ReLU.derivative(self.linear_2.z) * grad_a2\n",
    "\n",
    "        grad_a1 = np.matmul(grad_z2, self.linear_2.weight)\n",
    "        grad_z1 = self.ac_ReLU.derivative(self.linear_1.z) * grad_a1 \n",
    "\n",
    "        self.linear_3.weight_grad = np.matmul(self.linear_3.a.T, grad_z3)\n",
    "        self.linear_3.bias_grad = np.sum(grad_z3, axis= 0)\n",
    "        \n",
    "        self.linear_2.weight_grad = np.matmul(self.linear_2.a.T, grad_z2)\n",
    "        self.linear_2.bias_grad = np.sum(grad_z2, axis= 0)\n",
    "\n",
    "        self.linear_1.weight_grad = np.matmul(self.linear_1.a.T, grad_z1)\n",
    "        self.linear_1.bias_grad = np.sum(grad_z1, axis= 0)\n",
    "\n",
    "    def update(self, lr= 1e-4):\n",
    "        self.linear_3.update(lr)\n",
    "        self.linear_2.update(lr)\n",
    "        self.linear_1.update(lr)\n",
    "\n",
    "    def grad_zero(self):\n",
    "        self.linear_3.grad_zero()\n",
    "        self.linear_2.grad_zero()\n",
    "        self.linear_1.grad_zero()"
   ]
  },
  {
   "cell_type": "code",
   "execution_count": 5,
   "metadata": {},
   "outputs": [],
   "source": [
    "def draw_loss(y):\n",
    "    x = [i for i in range(len(y))]\n",
    "    fig, ax = plt.subplots()\n",
    "    ax.plot(x, y, linewidth= 2.0)\n",
    "    ax.set(xlim=(0, len(y)), xticks=np.arange(1, len(y), 10000),  # 設定座標軸\n",
    "    ylim=(0, 1), yticks=np.arange(0, 2, 0.1))\n",
    "\n",
    "    plt.show()    # 顯示圖表"
   ]
  },
  {
   "cell_type": "code",
   "execution_count": 6,
   "metadata": {},
   "outputs": [],
   "source": [
    "def train(model, x, y, config):\n",
    "\n",
    "    epoch = config[\"epoch\"]\n",
    "    lr = config[\"learning_rate\"]\n",
    "\n",
    "    loss = list()\n",
    "    for i in range(epoch):\n",
    "        model.grad_zero()\n",
    "        # prediction\n",
    "        pred = model(x)\n",
    "        # MSE loss\n",
    "        MSE_loss = ((pred - y) ** 2).mean()\n",
    "        loss.append(MSE_loss)\n",
    "        if (i + 1) % 5000 == 0:\n",
    "            print(f\"Epoch: {i + 1}, Loss: {MSE_loss}\")\n",
    "        # cal\n",
    "        grad_y = -2 * (y - pred)\n",
    "        model.backward(grad_y)\n",
    "        model.update(lr= lr)\n",
    "\n",
    "    draw_loss(loss)\n",
    "    return model"
   ]
  },
  {
   "cell_type": "code",
   "execution_count": 7,
   "metadata": {},
   "outputs": [],
   "source": [
    "def test(model, x, y):\n",
    "    pred = model(x)\n",
    "    loss = ((pred - y) ** 2).mean()\n",
    "    correct_cnt = 0\n",
    "    for i, (y_pred, y_true) in enumerate(zip(pred, y)):\n",
    "        print(\"Iter{} |  Ground Truth: {:.1f} | Prediction: {:.5f} |\".format(i, y_true[0], y_pred[0]))\n",
    "        if(np.around(y_pred, 0) == y_true):\n",
    "            correct_cnt += 1\n",
    "\n",
    "    print(\"loss={:.8f} accuracy={:.2%}\".format(loss, correct_cnt / len(y)))\n",
    "    show_result(x, y, np.around(pred,0))"
   ]
  },
  {
   "cell_type": "code",
   "execution_count": 8,
   "metadata": {},
   "outputs": [],
   "source": [
    "# hyperparameter\n",
    "config = {\n",
    "    \"epoch\" : 100000,\n",
    "    \"learning_rate\" : 1e-3\n",
    "}"
   ]
  },
  {
   "cell_type": "code",
   "execution_count": 9,
   "metadata": {},
   "outputs": [],
   "source": [
    "model1 = linear_model(2, 1) "
   ]
  },
  {
   "cell_type": "code",
   "execution_count": 10,
   "metadata": {},
   "outputs": [
    {
     "name": "stdout",
     "output_type": "stream",
     "text": [
      "Epoch: 5000, Loss: 0.007368292402091441\n",
      "Epoch: 10000, Loss: 0.003782799500157825\n",
      "Epoch: 15000, Loss: 0.002279311025761753\n",
      "Epoch: 20000, Loss: 0.0014946738042793852\n",
      "Epoch: 25000, Loss: 0.0010457922549189376\n",
      "Epoch: 30000, Loss: 0.0007711393130490962\n",
      "Epoch: 35000, Loss: 0.0005943815068033345\n",
      "Epoch: 40000, Loss: 0.0004733778082405011\n",
      "Epoch: 45000, Loss: 0.00038744491894874964\n",
      "Epoch: 50000, Loss: 0.0003243655613975084\n",
      "Epoch: 55000, Loss: 0.00027670121079464115\n",
      "Epoch: 60000, Loss: 0.0002397699839490232\n",
      "Epoch: 65000, Loss: 0.00021052796632696215\n",
      "Epoch: 70000, Loss: 0.0001869355595859929\n",
      "Epoch: 75000, Loss: 0.00016758805890555693\n",
      "Epoch: 80000, Loss: 0.00015149376222737624\n",
      "Epoch: 85000, Loss: 0.0001379368180410041\n",
      "Epoch: 90000, Loss: 0.00012638999722810613\n",
      "Epoch: 95000, Loss: 0.00011645799106869265\n",
      "Epoch: 100000, Loss: 0.00010783958045097237\n"
     ]
    },
    {
     "data": {
      "image/png": "[encoded data removed]",
      "text/plain": [
       "<Figure size 640x480 with 1 Axes>"
      ]
     },
     "metadata": {},
     "output_type": "display_data"
    }
   ],
   "source": [
    "# Training\n",
    "x, y = generate_linear(n = 100)\n",
    "model1 = train(model1, x, y, config)"
   ]
  },
  {
   "cell_type": "code",
   "execution_count": 11,
   "metadata": {},
   "outputs": [
    {
     "name": "stdout",
     "output_type": "stream",
     "text": [
      "Iter0 |  Ground Truth: 0.0 | Prediction: 0.00009 |\n",
      "Iter1 |  Ground Truth: 0.0 | Prediction: 0.00009 |\n",
      "Iter2 |  Ground Truth: 0.0 | Prediction: 0.00009 |\n",
      "Iter3 |  Ground Truth: 0.0 | Prediction: 0.00009 |\n",
      "Iter4 |  Ground Truth: 1.0 | Prediction: 0.99163 |\n",
      "Iter5 |  Ground Truth: 0.0 | Prediction: 0.00009 |\n",
      "Iter6 |  Ground Truth: 0.0 | Prediction: 0.00009 |\n",
      "Iter7 |  Ground Truth: 1.0 | Prediction: 0.99163 |\n",
      "Iter8 |  Ground Truth: 0.0 | Prediction: 0.00009 |\n",
      "Iter9 |  Ground Truth: 0.0 | Prediction: 0.00009 |\n",
      "Iter10 |  Ground Truth: 1.0 | Prediction: 0.99163 |\n",
      "Iter11 |  Ground Truth: 0.0 | Prediction: 0.00009 |\n",
      "Iter12 |  Ground Truth: 0.0 | Prediction: 0.00009 |\n",
      "Iter13 |  Ground Truth: 0.0 | Prediction: 0.00009 |\n",
      "Iter14 |  Ground Truth: 1.0 | Prediction: 0.99163 |\n",
      "Iter15 |  Ground Truth: 0.0 | Prediction: 0.00009 |\n",
      "Iter16 |  Ground Truth: 1.0 | Prediction: 0.99163 |\n",
      "Iter17 |  Ground Truth: 0.0 | Prediction: 0.00009 |\n",
      "Iter18 |  Ground Truth: 0.0 | Prediction: 0.00009 |\n",
      "Iter19 |  Ground Truth: 1.0 | Prediction: 0.99163 |\n",
      "Iter20 |  Ground Truth: 0.0 | Prediction: 0.00009 |\n",
      "Iter21 |  Ground Truth: 1.0 | Prediction: 0.99163 |\n",
      "Iter22 |  Ground Truth: 1.0 | Prediction: 0.99163 |\n",
      "Iter23 |  Ground Truth: 1.0 | Prediction: 0.99163 |\n",
      "Iter24 |  Ground Truth: 0.0 | Prediction: 0.00009 |\n",
      "Iter25 |  Ground Truth: 0.0 | Prediction: 0.00009 |\n",
      "Iter26 |  Ground Truth: 0.0 | Prediction: 0.00009 |\n",
      "Iter27 |  Ground Truth: 0.0 | Prediction: 0.00009 |\n",
      "Iter28 |  Ground Truth: 0.0 | Prediction: 0.00009 |\n",
      "Iter29 |  Ground Truth: 1.0 | Prediction: 0.99163 |\n",
      "Iter30 |  Ground Truth: 0.0 | Prediction: 0.00009 |\n",
      "Iter31 |  Ground Truth: 0.0 | Prediction: 0.00063 |\n",
      "Iter32 |  Ground Truth: 1.0 | Prediction: 0.99163 |\n",
      "Iter33 |  Ground Truth: 1.0 | Prediction: 0.99163 |\n",
      "Iter34 |  Ground Truth: 1.0 | Prediction: 0.99163 |\n",
      "Iter35 |  Ground Truth: 1.0 | Prediction: 0.99163 |\n",
      "Iter36 |  Ground Truth: 1.0 | Prediction: 0.99163 |\n",
      "Iter37 |  Ground Truth: 0.0 | Prediction: 0.00009 |\n",
      "Iter38 |  Ground Truth: 1.0 | Prediction: 0.99163 |\n",
      "Iter39 |  Ground Truth: 1.0 | Prediction: 0.99163 |\n",
      "Iter40 |  Ground Truth: 0.0 | Prediction: 0.01098 |\n",
      "Iter41 |  Ground Truth: 0.0 | Prediction: 0.00009 |\n",
      "Iter42 |  Ground Truth: 0.0 | Prediction: 0.00009 |\n",
      "Iter43 |  Ground Truth: 0.0 | Prediction: 0.00009 |\n",
      "Iter44 |  Ground Truth: 0.0 | Prediction: 0.00009 |\n",
      "Iter45 |  Ground Truth: 1.0 | Prediction: 0.99163 |\n",
      "Iter46 |  Ground Truth: 0.0 | Prediction: 0.00009 |\n",
      "Iter47 |  Ground Truth: 0.0 | Prediction: 0.00009 |\n",
      "Iter48 |  Ground Truth: 0.0 | Prediction: 0.99086 |\n",
      "Iter49 |  Ground Truth: 1.0 | Prediction: 0.99163 |\n",
      "Iter50 |  Ground Truth: 1.0 | Prediction: 0.99163 |\n",
      "Iter51 |  Ground Truth: 1.0 | Prediction: 0.99163 |\n",
      "Iter52 |  Ground Truth: 0.0 | Prediction: 0.00009 |\n",
      "Iter53 |  Ground Truth: 1.0 | Prediction: 0.99163 |\n",
      "Iter54 |  Ground Truth: 0.0 | Prediction: 0.00009 |\n",
      "Iter55 |  Ground Truth: 0.0 | Prediction: 0.00009 |\n",
      "Iter56 |  Ground Truth: 1.0 | Prediction: 0.99163 |\n",
      "Iter57 |  Ground Truth: 0.0 | Prediction: 0.00009 |\n",
      "Iter58 |  Ground Truth: 0.0 | Prediction: 0.00009 |\n",
      "Iter59 |  Ground Truth: 0.0 | Prediction: 0.00009 |\n",
      "Iter60 |  Ground Truth: 0.0 | Prediction: 0.00009 |\n",
      "Iter61 |  Ground Truth: 1.0 | Prediction: 0.99163 |\n",
      "Iter62 |  Ground Truth: 1.0 | Prediction: 0.99163 |\n",
      "Iter63 |  Ground Truth: 1.0 | Prediction: 0.99163 |\n",
      "Iter64 |  Ground Truth: 0.0 | Prediction: 0.00009 |\n",
      "Iter65 |  Ground Truth: 0.0 | Prediction: 0.00009 |\n",
      "Iter66 |  Ground Truth: 0.0 | Prediction: 0.00009 |\n",
      "Iter67 |  Ground Truth: 1.0 | Prediction: 0.99155 |\n",
      "Iter68 |  Ground Truth: 0.0 | Prediction: 0.00009 |\n",
      "Iter69 |  Ground Truth: 1.0 | Prediction: 0.99163 |\n",
      "Iter70 |  Ground Truth: 0.0 | Prediction: 0.48077 |\n",
      "Iter71 |  Ground Truth: 0.0 | Prediction: 0.00009 |\n",
      "Iter72 |  Ground Truth: 0.0 | Prediction: 0.00009 |\n",
      "Iter73 |  Ground Truth: 0.0 | Prediction: 0.00009 |\n",
      "Iter74 |  Ground Truth: 0.0 | Prediction: 0.00009 |\n",
      "Iter75 |  Ground Truth: 1.0 | Prediction: 0.99163 |\n",
      "Iter76 |  Ground Truth: 0.0 | Prediction: 0.00009 |\n",
      "Iter77 |  Ground Truth: 0.0 | Prediction: 0.00009 |\n",
      "Iter78 |  Ground Truth: 0.0 | Prediction: 0.00295 |\n",
      "Iter79 |  Ground Truth: 1.0 | Prediction: 0.99163 |\n",
      "Iter80 |  Ground Truth: 0.0 | Prediction: 0.00009 |\n",
      "Iter81 |  Ground Truth: 0.0 | Prediction: 0.00009 |\n",
      "Iter82 |  Ground Truth: 1.0 | Prediction: 0.99163 |\n",
      "Iter83 |  Ground Truth: 1.0 | Prediction: 0.99163 |\n",
      "Iter84 |  Ground Truth: 1.0 | Prediction: 0.99163 |\n",
      "Iter85 |  Ground Truth: 0.0 | Prediction: 0.00009 |\n",
      "Iter86 |  Ground Truth: 0.0 | Prediction: 0.00009 |\n",
      "Iter87 |  Ground Truth: 0.0 | Prediction: 0.00009 |\n",
      "Iter88 |  Ground Truth: 0.0 | Prediction: 0.00009 |\n",
      "Iter89 |  Ground Truth: 1.0 | Prediction: 0.99163 |\n",
      "Iter90 |  Ground Truth: 1.0 | Prediction: 0.99163 |\n",
      "Iter91 |  Ground Truth: 0.0 | Prediction: 0.00009 |\n",
      "Iter92 |  Ground Truth: 0.0 | Prediction: 0.00009 |\n",
      "Iter93 |  Ground Truth: 0.0 | Prediction: 0.00009 |\n",
      "Iter94 |  Ground Truth: 1.0 | Prediction: 0.99163 |\n",
      "Iter95 |  Ground Truth: 0.0 | Prediction: 0.00009 |\n",
      "Iter96 |  Ground Truth: 0.0 | Prediction: 0.00009 |\n",
      "Iter97 |  Ground Truth: 0.0 | Prediction: 0.00009 |\n",
      "Iter98 |  Ground Truth: 1.0 | Prediction: 0.99163 |\n",
      "Iter99 |  Ground Truth: 1.0 | Prediction: 0.97130 |\n",
      "loss=0.01216486 accuracy=99.00%\n"
     ]
    },
    {
     "data": {
      "image/png": "[encoded data removed]",
      "text/plain": [
       "<Figure size 640x480 with 2 Axes>"
      ]
     },
     "metadata": {},
     "output_type": "display_data"
    }
   ],
   "source": [
    "# Testing\n",
    "x, y = generate_linear(n= 100)\n",
    "test(model1, x, y)\n"
   ]
  },
  {
   "cell_type": "code",
   "execution_count": null,
   "metadata": {},
   "outputs": [],
   "source": [
    "class linear_model:\n",
    "    def __init__(self, in_features, out_features):\n",
    "        # hidden layer 1\n",
    "        self.linear_1 = linear_layer(in_features, 2)\n",
    "        # hidden layer 2\n",
    "        self.linear_2 = linear_layer(2, 2)\n",
    "        # hidden layer 3\n",
    "        self.linear_3 = linear_layer(2, out_features)\n",
    "        self.ac_tanh = tanh()\n",
    "    \n",
    "    def __call__(self, x):\n",
    "        return self.forward(x)\n",
    "\n",
    "    def forward(self, x):\n",
    "        x = self.linear_1(x)\n",
    "        x = self.ac_tanh(x)\n",
    "        x = self.linear_2(x)\n",
    "        x = self.ac_tanh(x)\n",
    "        x = self.linear_3(x)\n",
    "        return x\n",
    "    \n",
    "    def backward(self, x):\n",
    "        \n",
    "        grad_a3 = x\n",
    "        grad_z3 = grad_a3\n",
    "        \n",
    "        grad_a2 = np.matmul(grad_z3, self.linear_3.weight)\n",
    "        grad_z2 = self.ac_tanh.derivative(self.linear_2.z) * grad_a2\n",
    "\n",
    "        grad_a1 = np.matmul(grad_z2, self.linear_2.weight)\n",
    "        grad_z1 = self.ac_tanh.derivative(self.linear_1.z) * grad_a1 \n",
    "\n",
    "        self.linear_3.weight_grad = np.matmul(self.linear_3.a.T, grad_z3)\n",
    "        self.linear_3.bias_grad = np.sum(grad_z3, axis= 0)\n",
    "        \n",
    "        self.linear_2.weight_grad = np.matmul(self.linear_2.a.T, grad_z2)\n",
    "        self.linear_2.bias_grad = np.sum(grad_z2, axis= 0)\n",
    "\n",
    "        self.linear_1.weight_grad = np.matmul(self.linear_1.a.T, grad_z1)\n",
    "        self.linear_1.bias_grad = np.sum(grad_z1, axis= 0)\n",
    "\n",
    "    def update(self, lr= 1e-4):\n",
    "        self.linear_3.update(lr)\n",
    "        self.linear_2.update(lr)\n",
    "        self.linear_1.update(lr)"
   ]
  },
  {
   "cell_type": "code",
   "execution_count": null,
   "metadata": {},
   "outputs": [],
   "source": [
    "model2 = linear_model(2, 1) "
   ]
  },
  {
   "cell_type": "code",
   "execution_count": null,
   "metadata": {},
   "outputs": [
    {
     "name": "stdout",
     "output_type": "stream",
     "text": [
      "Epoch: 5000, Loss: 0.015068932309349277\n",
      "Epoch: 10000, Loss: 0.0031098419316401985\n",
      "Epoch: 15000, Loss: 0.0014483058154950918\n",
      "Epoch: 20000, Loss: 0.0008896513528730982\n",
      "Epoch: 25000, Loss: 0.0006248933375941896\n",
      "Epoch: 30000, Loss: 0.000474539348888884\n",
      "Epoch: 35000, Loss: 0.00037907878226434947\n",
      "Epoch: 40000, Loss: 0.00031371643813888153\n",
      "Epoch: 45000, Loss: 0.0002664600560059995\n",
      "Epoch: 50000, Loss: 0.00023086407693256408\n",
      "Epoch: 55000, Loss: 0.00020318024133035006\n",
      "Epoch: 60000, Loss: 0.00018109149956405877\n",
      "Epoch: 65000, Loss: 0.00016309390344891884\n",
      "Epoch: 70000, Loss: 0.00014817156477479074\n",
      "Epoch: 75000, Loss: 0.00013561511481625566\n",
      "Epoch: 80000, Loss: 0.0001249151277119952\n",
      "Epoch: 85000, Loss: 0.00011569687058000323\n",
      "Epoch: 90000, Loss: 0.00010767889773694568\n",
      "Epoch: 95000, Loss: 0.0001006459495409688\n",
      "Epoch: 100000, Loss: 9.443072816739653e-05\n"
     ]
    },
    {
     "data": {
      "image/png": "[encoded data removed]",
      "text/plain": [
       "<Figure size 640x480 with 1 Axes>"
      ]
     },
     "metadata": {},
     "output_type": "display_data"
    }
   ],
   "source": [
    "# Training\n",
    "x, y = generate_XOR_easy()\n",
    "model2 = train(model2, x, y, config)"
   ]
  },
  {
   "cell_type": "code",
   "execution_count": null,
   "metadata": {},
   "outputs": [
    {
     "name": "stdout",
     "output_type": "stream",
     "text": [
      "Iter0 |  Ground Truth: 0.0 | Prediction: 0.00039 |\n",
      "Iter1 |  Ground Truth: 1.0 | Prediction: 0.99594 |\n",
      "Iter2 |  Ground Truth: 0.0 | Prediction: 0.00029 |\n",
      "Iter3 |  Ground Truth: 1.0 | Prediction: 0.99506 |\n",
      "Iter4 |  Ground Truth: 0.0 | Prediction: 0.00021 |\n",
      "Iter5 |  Ground Truth: 1.0 | Prediction: 0.99727 |\n",
      "Iter6 |  Ground Truth: 0.0 | Prediction: 0.00016 |\n",
      "Iter7 |  Ground Truth: 1.0 | Prediction: 1.01524 |\n",
      "Iter8 |  Ground Truth: 0.0 | Prediction: 0.00013 |\n",
      "Iter9 |  Ground Truth: 1.0 | Prediction: 0.99586 |\n",
      "Iter10 |  Ground Truth: 0.0 | Prediction: 0.00012 |\n",
      "Iter11 |  Ground Truth: 0.0 | Prediction: 0.00013 |\n",
      "Iter12 |  Ground Truth: 1.0 | Prediction: 0.96300 |\n",
      "Iter13 |  Ground Truth: 0.0 | Prediction: 0.00016 |\n",
      "Iter14 |  Ground Truth: 1.0 | Prediction: 1.00631 |\n",
      "Iter15 |  Ground Truth: 0.0 | Prediction: 0.00021 |\n",
      "Iter16 |  Ground Truth: 1.0 | Prediction: 1.00922 |\n",
      "Iter17 |  Ground Truth: 0.0 | Prediction: 0.00029 |\n",
      "Iter18 |  Ground Truth: 1.0 | Prediction: 1.00970 |\n",
      "Iter19 |  Ground Truth: 0.0 | Prediction: 0.00039 |\n",
      "Iter20 |  Ground Truth: 1.0 | Prediction: 1.00982 |\n",
      "loss=0.00009443 accuracy=100.00%\n"
     ]
    },
    {
     "data": {
      "image/png": "[encoded data removed]",
      "text/plain": [
       "<Figure size 640x480 with 2 Axes>"
      ]
     },
     "metadata": {},
     "output_type": "display_data"
    }
   ],
   "source": [
    "# Testing\n",
    "x, y = generate_XOR_easy()\n",
    "test(model2, x, y)"
   ]
  }
 ],
 "metadata": {
  "kernelspec": {
   "display_name": "gpu_env",
   "language": "python",
   "name": "python3"
  },
  "language_info": {
   "codemirror_mode": {
    "name": "ipython",
    "version": 3
   },
   "file_extension": ".py",
   "mimetype": "text/x-python",
   "name": "python",
   "nbconvert_exporter": "python",
   "pygments_lexer": "ipython3",
   "version": "3.10.13"
  }
 },
 "nbformat": 4,
 "nbformat_minor": 2
}
